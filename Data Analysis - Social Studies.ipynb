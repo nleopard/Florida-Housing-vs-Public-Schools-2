{
 "cells": [
  {
   "cell_type": "code",
   "execution_count": 1,
   "metadata": {},
   "outputs": [],
   "source": [
    "# Dependencies\n",
    "import pandas as pd\n",
    "import numpy as np\n",
    "import matplotlib.pyplot as plt\n",
    "import scipy.stats as sts\n",
    "from scipy.stats import linregress"
   ]
  },
  {
   "cell_type": "code",
   "execution_count": 2,
   "metadata": {},
   "outputs": [],
   "source": [
    "# Specify path to merged dataset\n",
    "merged_dataset = \"data/merged_school_zhi_value.csv\"\n",
    "\n",
    "# Load merged dataset into dataframe\n",
    "merged_df = pd.read_csv(merged_dataset)\n",
    "merged_df = merged_df.drop(columns=\"Unnamed: 0\")"
   ]
  },
  {
   "cell_type": "code",
   "execution_count": 3,
   "metadata": {},
   "outputs": [],
   "source": [
    "mean_achievement = merged_df.groupby('Zip Code')['Social Studies Achievement'].mean()\n",
    "median_achievement = merged_df.groupby('Zip Code')['Social Studies Achievement'].median()"
   ]
  },
  {
   "cell_type": "code",
   "execution_count": 4,
   "metadata": {},
   "outputs": [
    {
     "data": {
      "text/html": [
       "<div>\n",
       "<style scoped>\n",
       "    .dataframe tbody tr th:only-of-type {\n",
       "        vertical-align: middle;\n",
       "    }\n",
       "\n",
       "    .dataframe tbody tr th {\n",
       "        vertical-align: top;\n",
       "    }\n",
       "\n",
       "    .dataframe thead th {\n",
       "        text-align: right;\n",
       "    }\n",
       "</style>\n",
       "<table border=\"1\" class=\"dataframe\">\n",
       "  <thead>\n",
       "    <tr style=\"text-align: right;\">\n",
       "      <th></th>\n",
       "      <th>2019-01</th>\n",
       "      <th>2019-02</th>\n",
       "      <th>2019-03</th>\n",
       "      <th>2019-04</th>\n",
       "      <th>2019-05</th>\n",
       "      <th>2019-06</th>\n",
       "      <th>2019-07</th>\n",
       "      <th>2019-08</th>\n",
       "      <th>2019-09</th>\n",
       "      <th>2019-10</th>\n",
       "      <th>2019-11</th>\n",
       "      <th>2019-12</th>\n",
       "    </tr>\n",
       "    <tr>\n",
       "      <th>Zip Code</th>\n",
       "      <th></th>\n",
       "      <th></th>\n",
       "      <th></th>\n",
       "      <th></th>\n",
       "      <th></th>\n",
       "      <th></th>\n",
       "      <th></th>\n",
       "      <th></th>\n",
       "      <th></th>\n",
       "      <th></th>\n",
       "      <th></th>\n",
       "      <th></th>\n",
       "    </tr>\n",
       "  </thead>\n",
       "  <tbody>\n",
       "    <tr>\n",
       "      <td>32003</td>\n",
       "      <td>287864.0</td>\n",
       "      <td>287766.0</td>\n",
       "      <td>287816.0</td>\n",
       "      <td>288849.0</td>\n",
       "      <td>289554.0</td>\n",
       "      <td>290068.0</td>\n",
       "      <td>290329.0</td>\n",
       "      <td>290981.0</td>\n",
       "      <td>292019.0</td>\n",
       "      <td>292803.0</td>\n",
       "      <td>293059.0</td>\n",
       "      <td>293166.0</td>\n",
       "    </tr>\n",
       "    <tr>\n",
       "      <td>32008</td>\n",
       "      <td>130079.0</td>\n",
       "      <td>130273.0</td>\n",
       "      <td>130633.0</td>\n",
       "      <td>130933.0</td>\n",
       "      <td>131064.0</td>\n",
       "      <td>131191.0</td>\n",
       "      <td>131345.0</td>\n",
       "      <td>131640.0</td>\n",
       "      <td>131924.0</td>\n",
       "      <td>132222.0</td>\n",
       "      <td>132771.0</td>\n",
       "      <td>133492.0</td>\n",
       "    </tr>\n",
       "    <tr>\n",
       "      <td>32009</td>\n",
       "      <td>228914.0</td>\n",
       "      <td>230476.0</td>\n",
       "      <td>232130.0</td>\n",
       "      <td>232619.0</td>\n",
       "      <td>232508.0</td>\n",
       "      <td>232745.0</td>\n",
       "      <td>233207.0</td>\n",
       "      <td>234489.0</td>\n",
       "      <td>235675.0</td>\n",
       "      <td>236848.0</td>\n",
       "      <td>238924.0</td>\n",
       "      <td>241314.0</td>\n",
       "    </tr>\n",
       "    <tr>\n",
       "      <td>32011</td>\n",
       "      <td>218095.0</td>\n",
       "      <td>219669.0</td>\n",
       "      <td>221436.0</td>\n",
       "      <td>222726.0</td>\n",
       "      <td>223482.0</td>\n",
       "      <td>224304.0</td>\n",
       "      <td>224966.0</td>\n",
       "      <td>226245.0</td>\n",
       "      <td>228225.0</td>\n",
       "      <td>229770.0</td>\n",
       "      <td>231735.0</td>\n",
       "      <td>233539.0</td>\n",
       "    </tr>\n",
       "    <tr>\n",
       "      <td>32024</td>\n",
       "      <td>179343.0</td>\n",
       "      <td>180372.0</td>\n",
       "      <td>181620.0</td>\n",
       "      <td>182774.0</td>\n",
       "      <td>182979.0</td>\n",
       "      <td>183132.0</td>\n",
       "      <td>183388.0</td>\n",
       "      <td>183575.0</td>\n",
       "      <td>183609.0</td>\n",
       "      <td>183580.0</td>\n",
       "      <td>183498.0</td>\n",
       "      <td>183302.0</td>\n",
       "    </tr>\n",
       "  </tbody>\n",
       "</table>\n",
       "</div>"
      ],
      "text/plain": [
       "           2019-01   2019-02   2019-03   2019-04   2019-05   2019-06  \\\n",
       "Zip Code                                                               \n",
       "32003     287864.0  287766.0  287816.0  288849.0  289554.0  290068.0   \n",
       "32008     130079.0  130273.0  130633.0  130933.0  131064.0  131191.0   \n",
       "32009     228914.0  230476.0  232130.0  232619.0  232508.0  232745.0   \n",
       "32011     218095.0  219669.0  221436.0  222726.0  223482.0  224304.0   \n",
       "32024     179343.0  180372.0  181620.0  182774.0  182979.0  183132.0   \n",
       "\n",
       "           2019-07   2019-08   2019-09   2019-10   2019-11   2019-12  \n",
       "Zip Code                                                              \n",
       "32003     290329.0  290981.0  292019.0  292803.0  293059.0  293166.0  \n",
       "32008     131345.0  131640.0  131924.0  132222.0  132771.0  133492.0  \n",
       "32009     233207.0  234489.0  235675.0  236848.0  238924.0  241314.0  \n",
       "32011     224966.0  226245.0  228225.0  229770.0  231735.0  233539.0  \n",
       "32024     183388.0  183575.0  183609.0  183580.0  183498.0  183302.0  "
      ]
     },
     "execution_count": 4,
     "metadata": {},
     "output_type": "execute_result"
    }
   ],
   "source": [
    "# create housing price columns\n",
    "price_columns = ['2019-01','2019-02','2019-03','2019-04','2019-05','2019-06','2019-07','2019-08','2019-09','2019-10','2019-11','2019-12']\n",
    "house_average = merged_df.groupby('Zip Code')[price_columns].mean()\n",
    "house_average.head()"
   ]
  },
  {
   "cell_type": "code",
   "execution_count": 5,
   "metadata": {},
   "outputs": [],
   "source": [
    "# add mean and price to house_average dataframe\n",
    "house_average[\"2019 House Mean\"] = house_average[price_columns].median(axis=1)\n",
    "house_average[\"2019 Dec House Price\"] = house_average[price_columns].mean(axis=1)"
   ]
  },
  {
   "cell_type": "code",
   "execution_count": 6,
   "metadata": {},
   "outputs": [
    {
     "data": {
      "text/html": [
       "<div>\n",
       "<style scoped>\n",
       "    .dataframe tbody tr th:only-of-type {\n",
       "        vertical-align: middle;\n",
       "    }\n",
       "\n",
       "    .dataframe tbody tr th {\n",
       "        vertical-align: top;\n",
       "    }\n",
       "\n",
       "    .dataframe thead th {\n",
       "        text-align: right;\n",
       "    }\n",
       "</style>\n",
       "<table border=\"1\" class=\"dataframe\">\n",
       "  <thead>\n",
       "    <tr style=\"text-align: right;\">\n",
       "      <th></th>\n",
       "      <th>2019 House Mean</th>\n",
       "      <th>2019 Dec House Price</th>\n",
       "      <th>Social Studies Mean</th>\n",
       "    </tr>\n",
       "    <tr>\n",
       "      <th>Zip Code</th>\n",
       "      <th></th>\n",
       "      <th></th>\n",
       "      <th></th>\n",
       "    </tr>\n",
       "  </thead>\n",
       "  <tbody>\n",
       "    <tr>\n",
       "      <td>32003</td>\n",
       "      <td>290198.5</td>\n",
       "      <td>290356.166667</td>\n",
       "      <td>95.5</td>\n",
       "    </tr>\n",
       "    <tr>\n",
       "      <td>32008</td>\n",
       "      <td>131268.0</td>\n",
       "      <td>131463.916667</td>\n",
       "      <td>64.0</td>\n",
       "    </tr>\n",
       "    <tr>\n",
       "      <td>32009</td>\n",
       "      <td>232976.0</td>\n",
       "      <td>234154.083333</td>\n",
       "      <td>NaN</td>\n",
       "    </tr>\n",
       "    <tr>\n",
       "      <td>32011</td>\n",
       "      <td>224635.0</td>\n",
       "      <td>225349.333333</td>\n",
       "      <td>75.5</td>\n",
       "    </tr>\n",
       "    <tr>\n",
       "      <td>32024</td>\n",
       "      <td>183217.0</td>\n",
       "      <td>182597.666667</td>\n",
       "      <td>96.0</td>\n",
       "    </tr>\n",
       "  </tbody>\n",
       "</table>\n",
       "</div>"
      ],
      "text/plain": [
       "          2019 House Mean  2019 Dec House Price  Social Studies Mean\n",
       "Zip Code                                                            \n",
       "32003            290198.5         290356.166667                 95.5\n",
       "32008            131268.0         131463.916667                 64.0\n",
       "32009            232976.0         234154.083333                  NaN\n",
       "32011            224635.0         225349.333333                 75.5\n",
       "32024            183217.0         182597.666667                 96.0"
      ]
     },
     "execution_count": 6,
     "metadata": {},
     "output_type": "execute_result"
    }
   ],
   "source": [
    "# merge house_average with mean_achievement\n",
    "clean_merged_df = pd.merge( house_average, mean_achievement, on=\"Zip Code\" )\n",
    "clean_merged_df = clean_merged_df.rename(columns={\"Social Studies Achievement\":\"Social Studies Mean\"})\n",
    "clean_merged_df = clean_merged_df[['2019 House Mean','2019 Dec House Price','Social Studies Mean']]\n",
    "clean_merged_df.head()\n"
   ]
  },
  {
   "cell_type": "code",
   "execution_count": 7,
   "metadata": {},
   "outputs": [
    {
     "data": {
      "text/html": [
       "<div>\n",
       "<style scoped>\n",
       "    .dataframe tbody tr th:only-of-type {\n",
       "        vertical-align: middle;\n",
       "    }\n",
       "\n",
       "    .dataframe tbody tr th {\n",
       "        vertical-align: top;\n",
       "    }\n",
       "\n",
       "    .dataframe thead th {\n",
       "        text-align: right;\n",
       "    }\n",
       "</style>\n",
       "<table border=\"1\" class=\"dataframe\">\n",
       "  <thead>\n",
       "    <tr style=\"text-align: right;\">\n",
       "      <th></th>\n",
       "      <th>2019 House Mean</th>\n",
       "      <th>2019 Dec House Price</th>\n",
       "      <th>Social Studies Mean</th>\n",
       "      <th>Social Studies Median</th>\n",
       "    </tr>\n",
       "    <tr>\n",
       "      <th>Zip Code</th>\n",
       "      <th></th>\n",
       "      <th></th>\n",
       "      <th></th>\n",
       "      <th></th>\n",
       "    </tr>\n",
       "  </thead>\n",
       "  <tbody>\n",
       "    <tr>\n",
       "      <td>32003</td>\n",
       "      <td>290198.5</td>\n",
       "      <td>290356.166667</td>\n",
       "      <td>95.5</td>\n",
       "      <td>95.5</td>\n",
       "    </tr>\n",
       "    <tr>\n",
       "      <td>32008</td>\n",
       "      <td>131268.0</td>\n",
       "      <td>131463.916667</td>\n",
       "      <td>64.0</td>\n",
       "      <td>64.0</td>\n",
       "    </tr>\n",
       "    <tr>\n",
       "      <td>32009</td>\n",
       "      <td>232976.0</td>\n",
       "      <td>234154.083333</td>\n",
       "      <td>NaN</td>\n",
       "      <td>NaN</td>\n",
       "    </tr>\n",
       "    <tr>\n",
       "      <td>32011</td>\n",
       "      <td>224635.0</td>\n",
       "      <td>225349.333333</td>\n",
       "      <td>75.5</td>\n",
       "      <td>75.5</td>\n",
       "    </tr>\n",
       "    <tr>\n",
       "      <td>32024</td>\n",
       "      <td>183217.0</td>\n",
       "      <td>182597.666667</td>\n",
       "      <td>96.0</td>\n",
       "      <td>96.0</td>\n",
       "    </tr>\n",
       "  </tbody>\n",
       "</table>\n",
       "</div>"
      ],
      "text/plain": [
       "          2019 House Mean  2019 Dec House Price  Social Studies Mean  \\\n",
       "Zip Code                                                               \n",
       "32003            290198.5         290356.166667                 95.5   \n",
       "32008            131268.0         131463.916667                 64.0   \n",
       "32009            232976.0         234154.083333                  NaN   \n",
       "32011            224635.0         225349.333333                 75.5   \n",
       "32024            183217.0         182597.666667                 96.0   \n",
       "\n",
       "          Social Studies Median  \n",
       "Zip Code                         \n",
       "32003                      95.5  \n",
       "32008                      64.0  \n",
       "32009                       NaN  \n",
       "32011                      75.5  \n",
       "32024                      96.0  "
      ]
     },
     "execution_count": 7,
     "metadata": {},
     "output_type": "execute_result"
    }
   ],
   "source": [
    "# merge that with median achievement\n",
    "clean_merged_df = pd.merge( clean_merged_df,median_achievement, on=\"Zip Code\" )\n",
    "clean_merged_df = clean_merged_df.rename(columns={\"Social Studies Achievement\":\"Social Studies Median\"})\n",
    "clean_merged_df.head()"
   ]
  },
  {
   "cell_type": "code",
   "execution_count": 8,
   "metadata": {},
   "outputs": [],
   "source": [
    "# drop null values\n",
    "clean_merged_df = clean_merged_df.dropna()\n",
    "\n",
    "# Output result of dataframe into a csv file\n",
    "clean_merged_df.to_csv(\"data/social_studies_versus_home_prices.csv\")"
   ]
  },
  {
   "cell_type": "code",
   "execution_count": 10,
   "metadata": {},
   "outputs": [
    {
     "data": {
      "image/png": "[encoded data removed]",
      "text/plain": [
       "<Figure size 288x288 with 1 Axes>"
      ]
     },
     "metadata": {
      "needs_background": "light"
     },
     "output_type": "display_data"
    }
   ],
   "source": [
    "# Select columns\n",
    "plot_data_df = clean_merged_df.loc[:, [\"Zip Code\", \"2019 Dec House Price\", \"Social Studies Mean\"]]\n",
    "\n",
    "# Set index\n",
    "plot_data_df = plot_data_df.set_index('Zip Code')\n",
    "\n",
    "# Plot on scatter\n",
    "plot_data_df.plot(kind=\"scatter\", y=\"2019 Dec House Price\", x=\"Social Studies Mean\", grid=True, figsize=(4,4), title=\"Average Social Studies Score Versus 2019 Average ZHVI\")\n",
    "plt.show()"
   ]
  },
  {
   "cell_type": "code",
   "execution_count": 11,
   "metadata": {},
   "outputs": [],
   "source": [
    "zhvi_2019 = plot_data_df.iloc[:,0]\n",
    "avg_score = plot_data_df.iloc[:,1]\n",
    "correlation = sts.pearsonr(zhvi_2019,avg_score)\n"
   ]
  },
  {
   "cell_type": "code",
   "execution_count": 12,
   "metadata": {},
   "outputs": [
    {
     "name": "stdout",
     "output_type": "stream",
     "text": [
      "The linear regression equation is y = 6119.94x + -171941.57\n",
      "The correlation is equal to 0.34\n"
     ]
    },
    {
     "data": {
      "image/png": "[encoded data removed]",
      "text/plain": [
       "<Figure size 432x288 with 1 Axes>"
      ]
     },
     "metadata": {
      "needs_background": "light"
     },
     "output_type": "display_data"
    }
   ],
   "source": [
    "# Plot the correlation\n",
    "x_values = plot_data_df[\"Social Studies Mean\"]\n",
    "y_values = plot_data_df[\"2019 Dec House Price\"]\n",
    "(slope, intercept, rvalue, pvalue, stderr) = linregress(x_values, y_values)\n",
    "regress_values = x_values * slope + intercept\n",
    "line_eq = \"y = \" + str(round(slope,2)) + \"x + \" + str(round(intercept,2))\n",
    "plt.scatter(x_values, y_values)\n",
    "plt.plot(x_values,regress_values,\"r-\")\n",
    "plt.annotate(line_eq,(6,10),fontsize=10,color=\"red\")\n",
    "plt.xlabel(\"Social Studies Grade\")\n",
    "plt.ylabel(\"2019 ZHVI Average\")\n",
    "plt.title(\"Average Social Studies Score Versus 2019 Average ZHVI\")\n",
    "\n",
    "print(f\"The linear regression equation is {line_eq}\")\n",
    "print(f\"The correlation is equal to {round(correlation[0],2)}\")"
   ]
  },
  {
   "cell_type": "code",
   "execution_count": 13,
   "metadata": {},
   "outputs": [],
   "source": [
    "plt.show()"
   ]
  },
  {
   "cell_type": "code",
   "execution_count": null,
   "metadata": {},
   "outputs": [],
   "source": [
    "plt.savefig('mytable.png')"
   ]
  }
 ],
 "metadata": {
  "kernelspec": {
   "display_name": "Python 3",
   "language": "python",
   "name": "python3"
  },
  "language_info": {
   "codemirror_mode": {
    "name": "ipython",
    "version": 3
   },
   "file_extension": ".py",
   "mimetype": "text/x-python",
   "name": "python",
   "nbconvert_exporter": "python",
   "pygments_lexer": "ipython3",
   "version": "3.7.4"
  }
 },
 "nbformat": 4,
 "nbformat_minor": 2
}
